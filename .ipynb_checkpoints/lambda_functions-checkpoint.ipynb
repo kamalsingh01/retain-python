{
 "cells": [
  {
   "cell_type": "markdown",
   "id": "704a305c-1670-4c9f-b8c6-d16c2aa15065",
   "metadata": {},
   "source": [
    "# lambda-functions\n",
    "\n",
    "Lambda function reprsents an anonymous function with no name. \n",
    "It can take any number of arguments but can only have one expression. \n",
    "\n",
    "It takes lambda(keyword), arguments(bound variables) and body(expression).\n",
    "\n",
    "SYNTAX:\n",
    "\n",
    "> _lambda_ arguments : expression\n",
    "\n",
    "Lambda functions are use-and-throw kind of functions and use when anonymous function is required for a short span of time.\n",
    "\n"
   ]
  },
  {
   "cell_type": "markdown",
   "id": "4ad52dfa-1c2f-480b-a1c1-0666a8b2c81e",
   "metadata": {},
   "source": [
    "#### random-facts\n",
    "1. Typically, you’ll see lambda functions used when you need to pass one function as an argument to another.\n",
    "2. intention of a lambdas (again, aka anonymous functions) are for throwaway, use-once functions that you don’t want to bother giving a name, because you’re not going to use them again\n",
    "3. helps where defining the function beforehand is not useful.\n",
    "4. If two lambdas are created with no name, they are assigned to same memory reference in python. Link : https://stackoverflow.com/questions/37923933/memory-address-of-a-lambda-function#:~:text=It%20is%20simply%20that%20Python,location%20for%20the%20next%20object.\n",
    "5. \n",
    "\n",
    "\n",
    "#### important-references\n",
    "1. https://realpython.com/python-lambda/\n",
    "2. "
   ]
  },
  {
   "cell_type": "code",
   "execution_count": 25,
   "id": "15035f0b-d9d3-4b9f-957e-b712e701932d",
   "metadata": {},
   "outputs": [
    {
     "data": {
      "text/plain": [
       "<function __main__.<lambda>(x)>"
      ]
     },
     "execution_count": 25,
     "metadata": {},
     "output_type": "execute_result"
    }
   ],
   "source": [
    "lambda x: x^4)"
   ]
  },
  {
   "cell_type": "code",
   "execution_count": 26,
   "id": "f5c51138-0b3d-4b1f-8a45-f19a5827abd3",
   "metadata": {},
   "outputs": [],
   "source": [
    "temp = lambda x: x**4"
   ]
  },
  {
   "cell_type": "code",
   "execution_count": 27,
   "id": "269a72ee-d15b-4bab-9b49-9e4f0a193c4d",
   "metadata": {},
   "outputs": [
    {
     "data": {
      "text/plain": [
       "81"
      ]
     },
     "execution_count": 27,
     "metadata": {},
     "output_type": "execute_result"
    }
   ],
   "source": [
    "temp(3)\n"
   ]
  },
  {
   "cell_type": "code",
   "execution_count": 28,
   "id": "83aa7245-86c2-4eca-bb2b-80fda6740d31",
   "metadata": {},
   "outputs": [
    {
     "data": {
      "text/plain": [
       "<function __main__.avg1.<locals>.<lambda>(x, y)>"
      ]
     },
     "execution_count": 28,
     "metadata": {},
     "output_type": "execute_result"
    }
   ],
   "source": [
    "def avg1(x,y):\n",
    "    return lambda x,y : (x+y)/2\n",
    "\n",
    "avg1(3,4)"
   ]
  },
  {
   "cell_type": "code",
   "execution_count": 29,
   "id": "b3a6663f-4ba2-4783-ae78-703d233f7dfa",
   "metadata": {
    "scrolled": true
   },
   "outputs": [
    {
     "data": {
      "text/plain": [
       "<function __main__.avg1.<locals>.<lambda>(x, y)>"
      ]
     },
     "execution_count": 29,
     "metadata": {},
     "output_type": "execute_result"
    }
   ],
   "source": [
    "avg1(3,4)"
   ]
  },
  {
   "cell_type": "markdown",
   "id": "0c40f895-65e6-44c5-b219-4b2d9d039dc3",
   "metadata": {},
   "source": [
    "This above function \"avg1()\" returns a lambda function( or simply a function) object in return and it doesn't calculate the average. Now, thinking of it, converges  me to the fact that for lambda functions an object is created."
   ]
  },
  {
   "cell_type": "markdown",
   "id": "050784df-70e5-407c-abe1-48ad5438af7b",
   "metadata": {},
   "source": [
    "Passing a lambda function as argument to higher-order functions. Super Cool😎"
   ]
  },
  {
   "cell_type": "code",
   "execution_count": 30,
   "id": "62d66fe1-d28f-4e3b-bbd9-e0be4e134b95",
   "metadata": {},
   "outputs": [],
   "source": [
    "def apply(func, val):\n",
    "    return 7 + func(val)\n"
   ]
  },
  {
   "cell_type": "code",
   "execution_count": 31,
   "id": "069b883d-90a4-4d29-a7e9-cbf30fea0d6a",
   "metadata": {},
   "outputs": [
    {
     "data": {
      "text/plain": [
       "15"
      ]
     },
     "execution_count": 31,
     "metadata": {},
     "output_type": "execute_result"
    }
   ],
   "source": [
    "apply( lambda x: x*2 , 4)\n"
   ]
  },
  {
   "cell_type": "markdown",
   "id": "eb387605-a77c-4370-949c-9e5265f03272",
   "metadata": {},
   "source": [
    "Lambda Functions can execute multiple statements but when included in a single Expression."
   ]
  },
  {
   "cell_type": "code",
   "execution_count": 32,
   "id": "43b1d62a-3592-4924-acd6-db89fff81271",
   "metadata": {},
   "outputs": [],
   "source": [
    "fun = lambda x,y: print( f\" {x} * {y} = {x*y}\")"
   ]
  },
  {
   "cell_type": "code",
   "execution_count": 33,
   "id": "a2db2b9d-f184-4221-afe7-03c1459436b6",
   "metadata": {},
   "outputs": [
    {
     "name": "stdout",
     "output_type": "stream",
     "text": [
      "<function <lambda> at 0x120ad8040>\n"
     ]
    }
   ],
   "source": [
    "print(fun)"
   ]
  },
  {
   "cell_type": "code",
   "execution_count": 34,
   "id": "c69f5c95-f47e-4ac6-af97-f8307edd3e61",
   "metadata": {},
   "outputs": [
    {
     "ename": "TypeError",
     "evalue": "<lambda>() missing 1 required positional argument: 'y'",
     "output_type": "error",
     "traceback": [
      "\u001b[0;31m---------------------------------------------------------------------------\u001b[0m",
      "\u001b[0;31mTypeError\u001b[0m                                 Traceback (most recent call last)",
      "Cell \u001b[0;32mIn[34], line 1\u001b[0m\n\u001b[0;32m----> 1\u001b[0m \u001b[38;5;28mprint\u001b[39m(\u001b[43mfun\u001b[49m\u001b[43m(\u001b[49m\u001b[38;5;241;43m3\u001b[39;49m\u001b[43m)\u001b[49m)\n",
      "\u001b[0;31mTypeError\u001b[0m: <lambda>() missing 1 required positional argument: 'y'"
     ]
    }
   ],
   "source": [
    "print(fun(3))"
   ]
  },
  {
   "cell_type": "code",
   "execution_count": 35,
   "id": "441ffb23-e4ad-49a4-8115-dd7cc316e9f5",
   "metadata": {},
   "outputs": [
    {
     "name": "stdout",
     "output_type": "stream",
     "text": [
      " 3 * 7 = 21\n"
     ]
    }
   ],
   "source": [
    "fun(3,7)"
   ]
  },
  {
   "cell_type": "code",
   "execution_count": 36,
   "id": "c98c836f-51a0-4631-8b20-ee6a3e6c1cda",
   "metadata": {},
   "outputs": [
    {
     "name": "stdout",
     "output_type": "stream",
     "text": [
      " 3 * 7 = 21\n",
      "None\n"
     ]
    }
   ],
   "source": [
    "print(fun(3,7))"
   ]
  },
  {
   "cell_type": "markdown",
   "id": "e0c7a277-47ec-44fb-aa44-861459de7f56",
   "metadata": {},
   "source": [
    "#### Reduction in Lambda function\n",
    "a way of finding value of an expression."
   ]
  },
  {
   "cell_type": "code",
   "execution_count": 38,
   "id": "5489849f-9878-4623-b163-d36e0d3bb426",
   "metadata": {},
   "outputs": [
    {
     "data": {
      "text/plain": [
       "3"
      ]
     },
     "execution_count": 38,
     "metadata": {},
     "output_type": "execute_result"
    }
   ],
   "source": [
    "# enclosing argument along with lambda: 2 is an argument for x(bounded variable)\n",
    "(lambda x: x + 1)(2)"
   ]
  },
  {
   "cell_type": "code",
   "execution_count": 39,
   "id": "b22f3885-7a8f-4cc4-986b-1e7701defe3b",
   "metadata": {},
   "outputs": [
    {
     "data": {
      "text/plain": [
       "3"
      ]
     },
     "execution_count": 39,
     "metadata": {},
     "output_type": "execute_result"
    }
   ],
   "source": [
    "add_one = lambda x: x + 1\n",
    "add_one(2)"
   ]
  },
  {
   "cell_type": "code",
   "execution_count": 48,
   "id": "8da5b14b-a9db-4116-abe9-01cc1afd50de",
   "metadata": {},
   "outputs": [
    {
     "data": {
      "text/plain": [
       "<function __main__.<lambda>(x, y)>"
      ]
     },
     "execution_count": 48,
     "metadata": {},
     "output_type": "execute_result"
    }
   ],
   "source": [
    "lambda x,y : x+y"
   ]
  },
  {
   "cell_type": "code",
   "execution_count": 49,
   "id": "78cf7d0a-81ed-4ea1-864c-c2ac122a7b68",
   "metadata": {},
   "outputs": [
    {
     "data": {
      "text/plain": [
       "3"
      ]
     },
     "execution_count": 49,
     "metadata": {},
     "output_type": "execute_result"
    }
   ],
   "source": [
    "_(1,2)"
   ]
  },
  {
   "cell_type": "markdown",
   "id": "96275e75-be1c-471e-84d2-bfb886580ce4",
   "metadata": {},
   "source": [
    "the code above works becuase of interactive interpreter feature which considers _the single underscore (\\_) is bounded to the last expression evaluated._ See the example below"
   ]
  },
  {
   "cell_type": "code",
   "execution_count": 68,
   "id": "b4f023fc-87f5-4e10-b89e-e37d5fe8a2a2",
   "metadata": {},
   "outputs": [
    {
     "data": {
      "text/plain": [
       "<function __main__.<lambda>(x, y)>"
      ]
     },
     "execution_count": 68,
     "metadata": {},
     "output_type": "execute_result"
    }
   ],
   "source": [
    "(lambda x, y: x + y)\n"
   ]
  },
  {
   "cell_type": "code",
   "execution_count": 71,
   "id": "db6fdd13-0adf-4a1b-b7a4-5f24280cee28",
   "metadata": {},
   "outputs": [
    {
     "name": "stdout",
     "output_type": "stream",
     "text": [
      "y\n"
     ]
    }
   ],
   "source": [
    "print('y')"
   ]
  },
  {
   "cell_type": "code",
   "execution_count": 72,
   "id": "127cd07b-7029-4294-9470-d5cbbea0e7a2",
   "metadata": {},
   "outputs": [
    {
     "ename": "TypeError",
     "evalue": "'int' object is not callable",
     "output_type": "error",
     "traceback": [
      "\u001b[0;31m---------------------------------------------------------------------------\u001b[0m",
      "\u001b[0;31mTypeError\u001b[0m                                 Traceback (most recent call last)",
      "Cell \u001b[0;32mIn[72], line 1\u001b[0m\n\u001b[0;32m----> 1\u001b[0m \u001b[43m_\u001b[49m\u001b[43m(\u001b[49m\u001b[38;5;241;43m5\u001b[39;49m\u001b[43m,\u001b[49m\u001b[38;5;241;43m2\u001b[39;49m\u001b[43m)\u001b[49m\n",
      "\u001b[0;31mTypeError\u001b[0m: 'int' object is not callable"
     ]
    }
   ],
   "source": [
    "_(5,2)"
   ]
  },
  {
   "cell_type": "code",
   "execution_count": 74,
   "id": "d4f8f08c-b046-40a0-813c-e567bee28daf",
   "metadata": {},
   "outputs": [
    {
     "data": {
      "text/plain": [
       "6"
      ]
     },
     "execution_count": 74,
     "metadata": {},
     "output_type": "execute_result"
    }
   ],
   "source": [
    "(lambda x, y: x + y)(9,-3)"
   ]
  },
  {
   "cell_type": "markdown",
   "id": "1cd0ddeb-07df-4eeb-a931-e746e213c45c",
   "metadata": {},
   "source": [
    "Lambda functions are frequently used with higher-order functions, which take one or more functions as arguments or return one or more functions.\n",
    "\n",
    "\n",
    "A lambda function can be a higher-order function by taking a function (normal or lambda) as an argument. In the example below, 2 passed as x and in place of func argument, another lambda fucntion( a function object) is passed \n"
   ]
  },
  {
   "cell_type": "code",
   "execution_count": 78,
   "id": "effcd355-43c1-42e1-818f-4ab539fba7c4",
   "metadata": {},
   "outputs": [],
   "source": [
    "high_ord_func = lambda x, func: x + func(x)"
   ]
  },
  {
   "cell_type": "code",
   "execution_count": 79,
   "id": "49aecfd3-6f6f-475f-9cc3-618c04d44bc8",
   "metadata": {},
   "outputs": [
    {
     "data": {
      "text/plain": [
       "6"
      ]
     },
     "execution_count": 79,
     "metadata": {},
     "output_type": "execute_result"
    }
   ],
   "source": [
    "high_ord_func(2, lambda x : x*x)"
   ]
  },
  {
   "cell_type": "code",
   "execution_count": null,
   "id": "ac2ef769-8f46-45eb-ad5b-b2581986fb59",
   "metadata": {},
   "outputs": [],
   "source": []
  }
 ],
 "metadata": {
  "kernelspec": {
   "display_name": "Python 3 (ipykernel)",
   "language": "python",
   "name": "python3"
  },
  "language_info": {
   "codemirror_mode": {
    "name": "ipython",
    "version": 3
   },
   "file_extension": ".py",
   "mimetype": "text/x-python",
   "name": "python",
   "nbconvert_exporter": "python",
   "pygments_lexer": "ipython3",
   "version": "3.11.9"
  }
 },
 "nbformat": 4,
 "nbformat_minor": 5
}
